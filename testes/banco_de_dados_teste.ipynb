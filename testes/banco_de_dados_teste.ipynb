{
 "cells": [
  {
   "cell_type": "code",
   "execution_count": 1,
   "id": "361cfb00",
   "metadata": {},
   "outputs": [],
   "source": [
    "# importações\n",
    "import pandas as pd\n",
    "import psycopg2"
   ]
  },
  {
   "cell_type": "code",
   "execution_count": null,
   "id": "20dca763",
   "metadata": {},
   "outputs": [],
   "source": [
    "# importando planilha\n",
    "#tabela = pd.read_csv(r'C:\\projetos\\prospeccao-de-clientes\\dados\\empresas.csv')\n",
    "tabela_teste = pd.read_csv(r'C:\\projetos\\prospeccao-de-clientes\\dados\\teste.csv')"
   ]
  },
  {
   "cell_type": "code",
   "execution_count": 3,
   "id": "79afbbb5",
   "metadata": {},
   "outputs": [
    {
     "data": {
      "text/html": [
       "<div>\n",
       "<style scoped>\n",
       "    .dataframe tbody tr th:only-of-type {\n",
       "        vertical-align: middle;\n",
       "    }\n",
       "\n",
       "    .dataframe tbody tr th {\n",
       "        vertical-align: top;\n",
       "    }\n",
       "\n",
       "    .dataframe thead th {\n",
       "        text-align: right;\n",
       "    }\n",
       "</style>\n",
       "<table border=\"1\" class=\"dataframe\">\n",
       "  <thead>\n",
       "    <tr style=\"text-align: right;\">\n",
       "      <th></th>\n",
       "      <th>nome</th>\n",
       "      <th>cargo</th>\n",
       "      <th>data</th>\n",
       "    </tr>\n",
       "  </thead>\n",
       "  <tbody>\n",
       "    <tr>\n",
       "      <th>0</th>\n",
       "      <td>Peixoto</td>\n",
       "      <td>Programador</td>\n",
       "      <td>2025-04-28</td>\n",
       "    </tr>\n",
       "    <tr>\n",
       "      <th>1</th>\n",
       "      <td>Leopoldo</td>\n",
       "      <td>Analista</td>\n",
       "      <td>2025-04-28</td>\n",
       "    </tr>\n",
       "    <tr>\n",
       "      <th>2</th>\n",
       "      <td>Lucinda</td>\n",
       "      <td>Analista</td>\n",
       "      <td>2025-04-28</td>\n",
       "    </tr>\n",
       "    <tr>\n",
       "      <th>3</th>\n",
       "      <td>Juca</td>\n",
       "      <td>Gerente</td>\n",
       "      <td>2025-04-20</td>\n",
       "    </tr>\n",
       "  </tbody>\n",
       "</table>\n",
       "</div>"
      ],
      "text/plain": [
       "       nome        cargo          data\n",
       "0   Peixoto  Programador    2025-04-28\n",
       "1  Leopoldo     Analista    2025-04-28\n",
       "2   Lucinda     Analista    2025-04-28\n",
       "3      Juca      Gerente    2025-04-20"
      ]
     },
     "execution_count": 3,
     "metadata": {},
     "output_type": "execute_result"
    }
   ],
   "source": [
    "#tabela.head()\n",
    "tabela_teste.head()"
   ]
  },
  {
   "cell_type": "code",
   "execution_count": 37,
   "id": "ea4dd6e3",
   "metadata": {},
   "outputs": [],
   "source": [
    "# Criar banco de dados \n",
    "\n",
    "# conectando ao banco de dados\n",
    "conexao = psycopg2.connect(\n",
    "    dbname ='empresas_cadastradas',\n",
    "    user='postgres',\n",
    "    password='TESte1234@',\n",
    "    port='5432'\n",
    ")"
   ]
  },
  {
   "cell_type": "code",
   "execution_count": null,
   "id": "1df4ac07",
   "metadata": {},
   "outputs": [],
   "source": [
    "# criando o cursor\n",
    "cursor = conexao.cursor()\n",
    "\n",
    "nome = input('Nome: ')\n",
    "cargo = input('Cargo: ')\n",
    "datacontratacao = input('Data (AAAA-MM-DD): ')\n",
    "\n",
    "# inserindo os dados do funcionario no banco de dados\n",
    "cursor.execute(\"INSERT INTO Funcionarios (nome, cargo, datacontratacao) VALUES (%s, %s, %s)\",\n",
    "(nome, cargo, datacontratacao))\n",
    "\n",
    "conexao.commit()\n",
    "\n",
    "cursor.close()\n",
    "conexao.close()"
   ]
  },
  {
   "cell_type": "code",
   "execution_count": null,
   "id": "2e2c86de",
   "metadata": {},
   "outputs": [],
   "source": [
    "# criando o cursor\n",
    "cursor = conexao.cursor()\n",
    "\n",
    "# inserir os dados\n",
    "for linha in tabela_teste.values:\n",
    "    nome, cargo, data = linha\n",
    "    cursor.execute(\n",
    "        \"INSERT INTO Funcionarios (nome, cargo, datacontratacao) VALUES (%s, %s, %s)\",\n",
    "        (nome, cargo, data)\n",
    "    )\n",
    "\n",
    "conexao.commit()\n",
    "\n",
    "cursor.close()\n",
    "conexao.close()"
   ]
  },
  {
   "cell_type": "code",
   "execution_count": null,
   "id": "4ff42055",
   "metadata": {},
   "outputs": [],
   "source": [
    "# criando o cursor\n",
    "cursor = conexao.cursor()\n",
    "\n",
    "# inserir os dados\n",
    "for registro in tabela.values:\n",
    "    id, razao_social, nome_fantasia, cnpj, cnae_principal, endereco, cidade, estado, pais, email, telefone, situacao_cadastral = registro\n",
    "    cursor.execute(\n",
    "        \"INSERT INTO empresas (id, razao_social, nome_fantasia, cnpj, cnae_principal, endereco, cidade, estado, pais, email, telefone, situacao_cadastral) VALUES (%s, %s, %s)\",\n",
    "        (nome, cargo, data)\n",
    "    )\n",
    "\n",
    "conexao.commit()\n",
    "\n",
    "\n"
   ]
  },
  {
   "cell_type": "code",
   "execution_count": 38,
   "id": "34aa054f",
   "metadata": {},
   "outputs": [
    {
     "name": "stderr",
     "output_type": "stream",
     "text": [
      "C:\\Users\\Carlos\\AppData\\Local\\Temp\\ipykernel_7808\\3204900335.py:6: UserWarning: pandas only supports SQLAlchemy connectable (engine/connection) or database string URI or sqlite3 DBAPI2 connection. Other DBAPI2 objects are not tested. Please consider using SQLAlchemy.\n",
      "  df = pd.read_sql_query('SELECT * FROM funcionarios', con =conexao)\n"
     ]
    },
    {
     "data": {
      "text/html": [
       "<div>\n",
       "<style scoped>\n",
       "    .dataframe tbody tr th:only-of-type {\n",
       "        vertical-align: middle;\n",
       "    }\n",
       "\n",
       "    .dataframe tbody tr th {\n",
       "        vertical-align: top;\n",
       "    }\n",
       "\n",
       "    .dataframe thead th {\n",
       "        text-align: right;\n",
       "    }\n",
       "</style>\n",
       "<table border=\"1\" class=\"dataframe\">\n",
       "  <thead>\n",
       "    <tr style=\"text-align: right;\">\n",
       "      <th></th>\n",
       "      <th>id</th>\n",
       "      <th>nome</th>\n",
       "      <th>cargo</th>\n",
       "      <th>datacontratacao</th>\n",
       "    </tr>\n",
       "  </thead>\n",
       "  <tbody>\n",
       "    <tr>\n",
       "      <th>0</th>\n",
       "      <td>1</td>\n",
       "      <td>Carlos</td>\n",
       "      <td>Cientista de Dados</td>\n",
       "      <td>2025-04-28</td>\n",
       "    </tr>\n",
       "    <tr>\n",
       "      <th>1</th>\n",
       "      <td>6</td>\n",
       "      <td>Peixoto</td>\n",
       "      <td>Programador</td>\n",
       "      <td>2025-04-28</td>\n",
       "    </tr>\n",
       "    <tr>\n",
       "      <th>2</th>\n",
       "      <td>7</td>\n",
       "      <td>Leopoldo</td>\n",
       "      <td>Analista</td>\n",
       "      <td>2025-04-28</td>\n",
       "    </tr>\n",
       "    <tr>\n",
       "      <th>3</th>\n",
       "      <td>8</td>\n",
       "      <td>Lucinda</td>\n",
       "      <td>Analista</td>\n",
       "      <td>2025-04-28</td>\n",
       "    </tr>\n",
       "    <tr>\n",
       "      <th>4</th>\n",
       "      <td>9</td>\n",
       "      <td>Juca</td>\n",
       "      <td>Gerente</td>\n",
       "      <td>2025-04-20</td>\n",
       "    </tr>\n",
       "  </tbody>\n",
       "</table>\n",
       "</div>"
      ],
      "text/plain": [
       "   id      nome               cargo datacontratacao\n",
       "0   1    Carlos  Cientista de Dados      2025-04-28\n",
       "1   6   Peixoto         Programador      2025-04-28\n",
       "2   7  Leopoldo            Analista      2025-04-28\n",
       "3   8   Lucinda            Analista      2025-04-28\n",
       "4   9      Juca             Gerente      2025-04-20"
      ]
     },
     "execution_count": 38,
     "metadata": {},
     "output_type": "execute_result"
    }
   ],
   "source": [
    "# consultando a tabela\n",
    "\n",
    "# criando o cursor\n",
    "cursor = conexao.cursor()\n",
    "\n",
    "df = pd.read_sql_query('SELECT * FROM funcionarios', con =conexao)\n",
    "df"
   ]
  }
 ],
 "metadata": {
  "kernelspec": {
   "display_name": "venv",
   "language": "python",
   "name": "python3"
  },
  "language_info": {
   "codemirror_mode": {
    "name": "ipython",
    "version": 3
   },
   "file_extension": ".py",
   "mimetype": "text/x-python",
   "name": "python",
   "nbconvert_exporter": "python",
   "pygments_lexer": "ipython3",
   "version": "3.12.9"
  }
 },
 "nbformat": 4,
 "nbformat_minor": 5
}
